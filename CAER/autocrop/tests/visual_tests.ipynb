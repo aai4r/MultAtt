{
 "cells": [
  {
   "cell_type": "code",
   "execution_count": null,
   "metadata": {
    "ExecuteTime": {
     "end_time": "2020-03-23T19:44:29.134965Z",
     "start_time": "2020-03-23T19:44:28.890545Z"
    }
   },
   "outputs": [],
   "source": [
    "%matplotlib inline\n",
    "import os\n",
    "import sys\n",
    "import inspect\n",
    "import matplotlib.pyplot as plt\n",
    "import PIL\n",
    "\n",
    "currentdir = os.path.dirname(os.path.abspath(inspect.getfile(inspect.currentframe())))\n",
    "parentdir = os.path.dirname(currentdir)\n",
    "sys.path.insert(0,parentdir) \n",
    "\n",
    "from autocrop import Cropper\n",
    "\n",
    "loc = 'data/macbeth.jpg'\n",
    "c = Cropper()"
   ]
  },
  {
   "cell_type": "code",
   "execution_count": null,
   "metadata": {
    "ExecuteTime": {
     "end_time": "2020-03-23T19:44:32.496124Z",
     "start_time": "2020-03-23T19:44:32.389655Z"
    }
   },
   "outputs": [],
   "source": [
    "img_array = c.crop(loc)\n",
    "PIL.Image.fromarray(img_array)"
   ]
  },
  {
   "cell_type": "code",
   "execution_count": null,
   "metadata": {},
   "outputs": [],
   "source": [
    "PIL.Image.fromarray(c.crop(img_array))"
   ]
  },
  {
   "cell_type": "code",
   "execution_count": null,
   "metadata": {
    "ExecuteTime": {
     "end_time": "2020-03-23T19:44:37.012712Z",
     "start_time": "2020-03-23T19:44:36.831596Z"
    }
   },
   "outputs": [],
   "source": [
    "c = Cropper()\n",
    "img_array = c.crop(loc)\n",
    "plt.imshow(img_array)\n",
    "plt.show()"
   ]
  },
  {
   "cell_type": "code",
   "execution_count": null,
   "metadata": {
    "ExecuteTime": {
     "end_time": "2020-03-23T19:44:32.387838Z",
     "start_time": "2020-03-23T19:44:29.318422Z"
    },
    "scrolled": false
   },
   "outputs": [],
   "source": [
    "%%timeit\n",
    "# 32ms on 2016 i7 5-series, 148ms on 10 yo MBP\n",
    "img_array = c.crop(loc)"
   ]
  },
  {
   "cell_type": "code",
   "execution_count": null,
   "metadata": {
    "ExecuteTime": {
     "end_time": "2020-03-23T19:44:32.604788Z",
     "start_time": "2020-03-23T19:44:32.497318Z"
    }
   },
   "outputs": [],
   "source": [
    "c = Cropper(face_percent=100)\n",
    "plt.imshow(c.crop(loc))"
   ]
  },
  {
   "cell_type": "code",
   "execution_count": null,
   "metadata": {
    "ExecuteTime": {
     "end_time": "2020-03-23T19:44:32.734430Z",
     "start_time": "2020-03-23T19:44:32.606219Z"
    }
   },
   "outputs": [],
   "source": [
    "c = Cropper(height=700)\n",
    "plt.imshow(c.crop(loc))"
   ]
  },
  {
   "cell_type": "code",
   "execution_count": null,
   "metadata": {
    "ExecuteTime": {
     "end_time": "2020-03-23T19:44:35.895830Z",
     "start_time": "2020-03-23T19:44:35.861160Z"
    }
   },
   "outputs": [],
   "source": [
    "noise = 'data/noise.png'\n",
    "assert c.crop(noise) is None"
   ]
  },
  {
   "cell_type": "code",
   "execution_count": null,
   "metadata": {
    "ExecuteTime": {
     "end_time": "2020-03-23T19:44:32.738814Z",
     "start_time": "2020-03-23T19:44:32.735715Z"
    }
   },
   "outputs": [],
   "source": [
    "from glob import glob\n",
    "faces = [f for f in glob('data/*') if not f.endswith('md')]"
   ]
  },
  {
   "cell_type": "code",
   "execution_count": null,
   "metadata": {},
   "outputs": [],
   "source": [
    "print(img_array)"
   ]
  },
  {
   "cell_type": "code",
   "execution_count": null,
   "metadata": {
    "ExecuteTime": {
     "end_time": "2020-03-23T19:44:34.372618Z",
     "start_time": "2020-03-23T19:44:32.740908Z"
    },
    "scrolled": false
   },
   "outputs": [],
   "source": [
    "def plot_test_images(faces, cropper):\n",
    "    \"\"\"Given a list on filepaths, crops and plots them.\"\"\"\n",
    "    for face in faces:\n",
    "        try:\n",
    "            img_array = c.crop(face)\n",
    "        except (AttributeError, TypeError):\n",
    "            pass\n",
    "        if img_array is not None:\n",
    "            plt.imshow(img_array)\n",
    "            plt.show()\n",
    "\n",
    "            \n",
    "c = Cropper(width=650, height=500, face_percent=40)\n",
    "plot_test_images(faces, c)"
   ]
  },
  {
   "cell_type": "code",
   "execution_count": null,
   "metadata": {
    "ExecuteTime": {
     "end_time": "2020-03-23T19:44:35.860046Z",
     "start_time": "2020-03-23T19:44:34.373933Z"
    },
    "scrolled": false
   },
   "outputs": [],
   "source": [
    "c = Cropper(height=650, width=500, face_percent=40)\n",
    "plot_test_images(faces, c)"
   ]
  },
  {
   "cell_type": "markdown",
   "metadata": {},
   "source": [
    "## `_crop_postions`"
   ]
  },
  {
   "cell_type": "code",
   "execution_count": null,
   "metadata": {},
   "outputs": [],
   "source": [
    "c = Cropper()\n",
    "crop_positions = c._crop_positions\n",
    "print(help(crop_positions))\n",
    "crop_positions(500, 500, 50, 50, 100, 100)"
   ]
  },
  {
   "cell_type": "code",
   "execution_count": null,
   "metadata": {},
   "outputs": [],
   "source": [
    "faces"
   ]
  },
  {
   "cell_type": "code",
   "execution_count": null,
   "metadata": {},
   "outputs": [],
   "source": []
  }
 ],
 "metadata": {
  "kernelspec": {
   "display_name": "Python 3",
   "language": "python",
   "name": "python3"
  },
  "language_info": {
   "codemirror_mode": {
    "name": "ipython",
    "version": 3
   },
   "file_extension": ".py",
   "mimetype": "text/x-python",
   "name": "python",
   "nbconvert_exporter": "python",
   "pygments_lexer": "ipython3",
   "version": "3.7.4"
  }
 },
 "nbformat": 4,
 "nbformat_minor": 2
}
